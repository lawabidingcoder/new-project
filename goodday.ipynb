{
 "cells": [
  {
   "cell_type": "code",
   "execution_count": 10,
   "id": "33bd5839",
   "metadata": {},
   "outputs": [
    {
     "name": "stdout",
     "output_type": "stream",
     "text": [
      "['i', 'd', 'l', 'e']\n"
     ]
    }
   ],
   "source": [
    "## create a list\n",
    "my_list = ['i', 'd', 'l', 'e']\n",
    "\n",
    "## print my list\n",
    "print(my_list)"
   ]
  },
  {
   "cell_type": "code",
   "execution_count": 11,
   "id": "341ca3bb",
   "metadata": {},
   "outputs": [],
   "source": [
    "## delete an item from a list\n",
    "del my_list[2:4]\n",
    "\n"
   ]
  },
  {
   "cell_type": "code",
   "execution_count": 13,
   "id": "d74a0631",
   "metadata": {},
   "outputs": [
    {
     "name": "stdout",
     "output_type": "stream",
     "text": [
      "['i', 'd']\n"
     ]
    }
   ],
   "source": [
    "print(my_list)"
   ]
  },
  {
   "cell_type": "code",
   "execution_count": 14,
   "id": "97dbc3c6",
   "metadata": {},
   "outputs": [],
   "source": [
    "my_list[1] = 'n'"
   ]
  },
  {
   "cell_type": "code",
   "execution_count": 15,
   "id": "7a7bb25b",
   "metadata": {},
   "outputs": [
    {
     "name": "stdout",
     "output_type": "stream",
     "text": [
      "['i', 'n']\n"
     ]
    }
   ],
   "source": [
    "print(my_list)"
   ]
  },
  {
   "cell_type": "code",
   "execution_count": 16,
   "id": "ae5d38fd",
   "metadata": {},
   "outputs": [
    {
     "name": "stdout",
     "output_type": "stream",
     "text": [
      "['s', 'i', 'n']\n"
     ]
    }
   ],
   "source": [
    "new_list = ['s'] + my_list\n",
    "print(new_list)"
   ]
  },
  {
   "cell_type": "code",
   "execution_count": 17,
   "id": "8de3db3e",
   "metadata": {},
   "outputs": [
    {
     "name": "stdout",
     "output_type": "stream",
     "text": [
      "['s', 'i', 'n', 'g']\n"
     ]
    }
   ],
   "source": [
    "## append\n",
    "new_list.append('g')\n",
    "print(new_list)"
   ]
  },
  {
   "cell_type": "code",
   "execution_count": 19,
   "id": "c5110073",
   "metadata": {},
   "outputs": [
    {
     "name": "stdout",
     "output_type": "stream",
     "text": [
      "['s', 't', 'i', 'n', 'g']\n"
     ]
    }
   ],
   "source": [
    "## insert\n",
    "new_list.insert(1, 't')\n",
    "print(new_list)"
   ]
  },
  {
   "cell_type": "code",
   "execution_count": 26,
   "id": "a857ab3d",
   "metadata": {},
   "outputs": [
    {
     "name": "stdout",
     "output_type": "stream",
     "text": [
      "n\n"
     ]
    }
   ],
   "source": [
    "import random \n",
    "letter = random.choice(new_list)\n",
    "print(letter)"
   ]
  },
  {
   "cell_type": "code",
   "execution_count": 27,
   "id": "eccb25ff",
   "metadata": {},
   "outputs": [],
   "source": [
    "final_list = []\n",
    "for i in new_list:\n",
    "    final_list.append(new_list.index(i))"
   ]
  },
  {
   "cell_type": "code",
   "execution_count": 28,
   "id": "fd33ab61",
   "metadata": {},
   "outputs": [
    {
     "name": "stdout",
     "output_type": "stream",
     "text": [
      "[0, 1, 2, 3, 4]\n"
     ]
    }
   ],
   "source": [
    "print(final_list)"
   ]
  },
  {
   "cell_type": "code",
   "execution_count": 30,
   "id": "9d715a8c",
   "metadata": {},
   "outputs": [
    {
     "data": {
      "text/plain": [
       "10"
      ]
     },
     "execution_count": 30,
     "metadata": {},
     "output_type": "execute_result"
    }
   ],
   "source": [
    "sum(final_list)"
   ]
  },
  {
   "cell_type": "code",
   "execution_count": 31,
   "id": "1e749fbc",
   "metadata": {},
   "outputs": [
    {
     "data": {
      "text/plain": [
       "5"
      ]
     },
     "execution_count": 31,
     "metadata": {},
     "output_type": "execute_result"
    }
   ],
   "source": [
    "## length of the list\n",
    "len(final_list)"
   ]
  },
  {
   "cell_type": "code",
   "execution_count": 32,
   "id": "b5fbbac5",
   "metadata": {},
   "outputs": [
    {
     "name": "stdout",
     "output_type": "stream",
     "text": [
      "one\n"
     ]
    }
   ],
   "source": [
    "my_new_list = ['one', 'two', 'three']\n",
    "print(my_new_list[0])"
   ]
  },
  {
   "cell_type": "code",
   "execution_count": 34,
   "id": "4d59bb2c",
   "metadata": {},
   "outputs": [
    {
     "name": "stdout",
     "output_type": "stream",
     "text": [
      "one,two,three,"
     ]
    }
   ],
   "source": [
    "## a loop to iterate a list\n",
    "for i in my_new_list:\n",
    "    print(i, end=',')"
   ]
  },
  {
   "cell_type": "code",
   "execution_count": 38,
   "id": "0551d05d",
   "metadata": {},
   "outputs": [
    {
     "name": "stdout",
     "output_type": "stream",
     "text": [
      "three\ttwo\tone\t"
     ]
    }
   ],
   "source": [
    "## reverse a list\n",
    "for x in reversed(my_new_list):\n",
    "    print(x, end='\\t')"
   ]
  },
  {
   "cell_type": "code",
   "execution_count": 110,
   "id": "d4b0898c",
   "metadata": {},
   "outputs": [
    {
     "name": "stdout",
     "output_type": "stream",
     "text": [
      "The sum of the numbers is: 20\n",
      "The Average of the numbers is: 2.0\n",
      "1 is below average.\n",
      "1 is below average.\n",
      "1 is below average.\n",
      "1 is below average.\n",
      "1 is below average.\n",
      "1 is below average.\n",
      "11 is above average.\n",
      "1 is below average.\n",
      "1 is below average.\n",
      "1 is below average.\n"
     ]
    }
   ],
   "source": [
    "## task\n",
    "## initialize an empty list \n",
    "user_numbers = []\n",
    "## get the users to enter ten integers\n",
    "for i in range(1,11):\n",
    "    while True:\n",
    "        user_input = input(f'Please enter an integer number #{i}: ')\n",
    "        try:\n",
    "            num = int(user_input)\n",
    "            user_numbers.append(num)\n",
    "            break\n",
    "        except ValueError:\n",
    "            print('That is not a valid integer. Please enter an integer number')\n",
    "\n",
    "\n",
    "\n",
    "\n",
    "## calculate the sum and average numbers\n",
    "total_sum = sum(user_numbers)\n",
    "average = total_sum/len(user_numbers)\n",
    "\n",
    "\n",
    "\n",
    "## output the result\n",
    "print(f'The sum of the numbers is: {total_sum}' )\n",
    "print(f'The Average of the numbers is: {average}')\n",
    "\n",
    "\n",
    "\n",
    "## display the number based on th proportion\n",
    "for num in user_numbers:\n",
    "    if num < average:\n",
    "        proportion = 'below'\n",
    "    elif num > average:\n",
    "        proportion = 'above'\n",
    "    else:\n",
    "        proportion = 'equal to'\n",
    "\n",
    "    print(f'{num} is {proportion} average.')"
   ]
  },
  {
   "cell_type": "code",
   "execution_count": 42,
   "id": "6ad56b31",
   "metadata": {},
   "outputs": [],
   "source": [
    "my_string = \"Hello world\"\n"
   ]
  },
  {
   "cell_type": "code",
   "execution_count": 45,
   "id": "438afe4e",
   "metadata": {},
   "outputs": [
    {
     "data": {
      "text/plain": [
       "'w'"
      ]
     },
     "execution_count": 45,
     "metadata": {},
     "output_type": "execute_result"
    }
   ],
   "source": [
    "my_string[6]"
   ]
  },
  {
   "cell_type": "code",
   "execution_count": 46,
   "id": "38d850c3",
   "metadata": {},
   "outputs": [
    {
     "data": {
      "text/plain": [
       "'Hello'"
      ]
     },
     "execution_count": 46,
     "metadata": {},
     "output_type": "execute_result"
    }
   ],
   "source": [
    "## output hello\n",
    "my_string[:5]"
   ]
  },
  {
   "cell_type": "code",
   "execution_count": 48,
   "id": "15a79dbb",
   "metadata": {},
   "outputs": [
    {
     "name": "stdout",
     "output_type": "stream",
     "text": [
      "Cello\n"
     ]
    }
   ],
   "source": [
    "##CELLO\n",
    "my_string2 = my_string.replace('H', 'C')[:5]\n",
    "print(my_string2)"
   ]
  },
  {
   "cell_type": "code",
   "execution_count": 49,
   "id": "e376095e",
   "metadata": {},
   "outputs": [
    {
     "data": {
      "text/plain": [
       "'Cello'"
      ]
     },
     "execution_count": 49,
     "metadata": {},
     "output_type": "execute_result"
    }
   ],
   "source": [
    "\"C\" + my_string[1:5]"
   ]
  },
  {
   "cell_type": "code",
   "execution_count": 50,
   "id": "c37cf8d9",
   "metadata": {},
   "outputs": [],
   "source": [
    "## create a list\n",
    "a = [2,4,5,6,7,8,9]"
   ]
  },
  {
   "cell_type": "code",
   "execution_count": 51,
   "id": "8a9c5d51",
   "metadata": {},
   "outputs": [
    {
     "data": {
      "text/plain": [
       "list"
      ]
     },
     "execution_count": 51,
     "metadata": {},
     "output_type": "execute_result"
    }
   ],
   "source": [
    "## \n",
    "type(a)"
   ]
  },
  {
   "cell_type": "code",
   "execution_count": 52,
   "id": "76aa56e8",
   "metadata": {},
   "outputs": [
    {
     "data": {
      "text/plain": [
       "9"
      ]
     },
     "execution_count": 52,
     "metadata": {},
     "output_type": "execute_result"
    }
   ],
   "source": [
    "max(a)"
   ]
  },
  {
   "cell_type": "code",
   "execution_count": 55,
   "id": "062563a9",
   "metadata": {},
   "outputs": [
    {
     "data": {
      "text/plain": [
       "3.147"
      ]
     },
     "execution_count": 55,
     "metadata": {},
     "output_type": "execute_result"
    }
   ],
   "source": [
    "number = 3.1472\n",
    "round(number, 3)"
   ]
  },
  {
   "cell_type": "code",
   "execution_count": 56,
   "id": "d3248cae",
   "metadata": {},
   "outputs": [
    {
     "data": {
      "text/plain": [
       "4.1472"
      ]
     },
     "execution_count": 56,
     "metadata": {},
     "output_type": "execute_result"
    }
   ],
   "source": [
    "eval('number + 1')"
   ]
  },
  {
   "cell_type": "code",
   "execution_count": 99,
   "id": "f33b393e",
   "metadata": {},
   "outputs": [
    {
     "data": {
      "text/plain": [
       "3"
      ]
     },
     "execution_count": 99,
     "metadata": {},
     "output_type": "execute_result"
    }
   ],
   "source": [
    "import random\n",
    "random.randint(1,5)"
   ]
  },
  {
   "cell_type": "code",
   "execution_count": 100,
   "id": "22587bb1",
   "metadata": {},
   "outputs": [],
   "source": [
    "def square(no):\n",
    "    squared_number = no **2\n",
    "    return squared_number"
   ]
  },
  {
   "cell_type": "code",
   "execution_count": 101,
   "id": "ba7a54ee",
   "metadata": {},
   "outputs": [
    {
     "data": {
      "text/plain": [
       "16"
      ]
     },
     "execution_count": 101,
     "metadata": {},
     "output_type": "execute_result"
    }
   ],
   "source": [
    "square(4)"
   ]
  },
  {
   "cell_type": "code",
   "execution_count": 102,
   "id": "bb4f9714",
   "metadata": {},
   "outputs": [],
   "source": [
    "## function that convert pounds to kilogram\n",
    "def convert_to_kg(pounds):\n",
    "    kilograms = pounds / 2.2\n",
    "    return kilograms"
   ]
  },
  {
   "cell_type": "code",
   "execution_count": 103,
   "id": "04f517bb",
   "metadata": {},
   "outputs": [
    {
     "data": {
      "text/plain": [
       "11.363636363636363"
      ]
     },
     "execution_count": 103,
     "metadata": {},
     "output_type": "execute_result"
    }
   ],
   "source": [
    "convert_to_kg(25)"
   ]
  },
  {
   "cell_type": "code",
   "execution_count": 104,
   "id": "378e7c08",
   "metadata": {},
   "outputs": [],
   "source": [
    "## function that convert fahrenheit to celsius\n",
    "def convert_to_celcius(degrees_fahrenheit):\n",
    "    degree_celcius = (degrees_fahrenheit -  32) * (5/9)\n",
    "    return degree_celcius"
   ]
  },
  {
   "cell_type": "code",
   "execution_count": 105,
   "id": "ab7ddafd",
   "metadata": {},
   "outputs": [
    {
     "data": {
      "text/plain": [
       "2.7777777777777777"
      ]
     },
     "execution_count": 105,
     "metadata": {},
     "output_type": "execute_result"
    }
   ],
   "source": [
    "convert_to_celcius(37)"
   ]
  },
  {
   "cell_type": "code",
   "execution_count": null,
   "id": "2865b04d",
   "metadata": {},
   "outputs": [
    {
     "data": {
      "text/plain": [
       "'I am fearless'"
      ]
     },
     "execution_count": 106,
     "metadata": {},
     "output_type": "execute_result"
    }
   ],
   "source": [
    "## gloabal variable\n",
    "var = 'I am fearless'\n",
    "\n",
    "\n",
    "## define the function and use the variable\n",
    "def global_var():\n",
    "    access_var = var\n",
    "    return access_var\n",
    "\n",
    "\n",
    "\n",
    "global_var()"
   ]
  },
  {
   "cell_type": "code",
   "execution_count": null,
   "id": "ea27824a",
   "metadata": {},
   "outputs": [
    {
     "data": {
      "text/plain": [
       "'I am fearless'"
      ]
     },
     "execution_count": 107,
     "metadata": {},
     "output_type": "execute_result"
    }
   ],
   "source": []
  },
  {
   "cell_type": "code",
   "execution_count": null,
   "id": "0dfd2416",
   "metadata": {},
   "outputs": [
    {
     "name": "stdout",
     "output_type": "stream",
     "text": [
      "I am bold\n"
     ]
    }
   ],
   "source": [
    "## loacl variable\n",
    "def myfuc():\n",
    "    local_var = 'I am bold'\n",
    "    print(local_var)\n",
    "  \n",
    "\n",
    "myfuc()\n",
    "\n"
   ]
  },
  {
   "cell_type": "code",
   "execution_count": null,
   "id": "74d2fb7b",
   "metadata": {},
   "outputs": [
    {
     "ename": "NameError",
     "evalue": "name 'local_var' is not defined",
     "output_type": "error",
     "traceback": [
      "\u001b[1;31m---------------------------------------------------------------------------\u001b[0m",
      "\u001b[1;31mNameError\u001b[0m                                 Traceback (most recent call last)",
      "Cell \u001b[1;32mIn[109], line 1\u001b[0m\n\u001b[1;32m----> 1\u001b[0m \u001b[43mlocal_var\u001b[49m\n",
      "\u001b[1;31mNameError\u001b[0m: name 'local_var' is not defined"
     ]
    }
   ],
   "source": [
    "## local variable outside of a function\n",
    "local_var"
   ]
  },
  {
   "cell_type": "code",
   "execution_count": null,
   "id": "3f72140b",
   "metadata": {},
   "outputs": [],
   "source": [
    "## read test from a file\n",
    "with open('test.txt', 'r') as file:\n",
    "    for line in file:\n",
    "        print(line)"
   ]
  },
  {
   "cell_type": "code",
   "execution_count": null,
   "id": "8fb5fa98",
   "metadata": {},
   "outputs": [],
   "source": [
    "with open('test.txt', 'r') as file:\n",
    "    for line in file:\n",
    "        line = line.split(',')\n",
    "        print(line[0].rstrip(), line[1])"
   ]
  },
  {
   "cell_type": "code",
   "execution_count": null,
   "id": "ece37edf",
   "metadata": {},
   "outputs": [],
   "source": [
    "with open('test.txt', 'r') as file:\n",
    "    for line in file:\n",
    "        lines = line.rstrip().split(',')  \n",
    "        print(' '.join(lines)) "
   ]
  },
  {
   "cell_type": "code",
   "execution_count": null,
   "id": "400e06a1",
   "metadata": {},
   "outputs": [],
   "source": [
    "def save_to_file(first_name, surname, age):\n",
    "    with open('new_data.txt', 'w') as f:\n",
    "        line = ','.join([first_name, surname, age])\n",
    "        f.write(line + '\\n')\n",
    "        f.close()\n",
    "first_name = input('Enter your first name: ')\n",
    "surname = input('Enter your  surname: ')\n",
    "age = input('How old are you?')\n",
    "\n",
    "save_to_file(first_name, surname, age)"
   ]
  },
  {
   "cell_type": "code",
   "execution_count": null,
   "id": "1212bdbb",
   "metadata": {},
   "outputs": [],
   "source": [
    "## csv\n",
    "import csv\n",
    "with open('joke.csv', 'r') as csvfile:\n",
    "    reader = csv.reader(csvfile)\n",
    "    for line in reader:\n",
    "        print(line[0], line[1])"
   ]
  },
  {
   "cell_type": "code",
   "execution_count": null,
   "id": "75b6a7ed",
   "metadata": {},
   "outputs": [],
   "source": [
    "import csv\n",
    "with open('joke1.csv', 'r') as csvfile:\n",
    "    reader = csv.reader(csvfile)\n",
    "    for line in reader:\n",
    "        print(' '.join(line))"
   ]
  },
  {
   "cell_type": "code",
   "execution_count": null,
   "id": "57d7ea9c",
   "metadata": {},
   "outputs": [],
   "source": [
    "with open('joy.csv', mode='a') as csv_file:\n",
    "    character_writer = csv.writer(csv_file, delimiter=',', quotechar='\"', quoting=csv.QUOTE_MINIMAL)\n",
    "    character_writer.writerow(['Margo', 'Gru'])\n",
    "    character_writer.writerow(['Edith', 'Gru'])\n",
    "    character_writer.writerow(['Agnes', 'Gru'])"
   ]
  },
  {
   "cell_type": "code",
   "execution_count": null,
   "id": "16a742df",
   "metadata": {},
   "outputs": [],
   "source": [
    "##challenge\n",
    "## to be studied \n",
    "\n",
    "#import the csv library\n",
    "import csv\n",
    "\n",
    "#function to open the file and return name list\n",
    "def openfile():\n",
    "    names = []\n",
    "    \n",
    "    #open the csv file in read mode\n",
    "    with open(\"csvdata.csv\", \"r\") as csvfile:\n",
    "        reader = csv.reader(csvfile)\n",
    "       #for each line in the file add the data to the name list \n",
    "        for line in reader:\n",
    "            #add the data from the line to the end of end of the names list\n",
    "            names.append(line)\n",
    "            \n",
    "    #return the list of names        \n",
    "    return names\n",
    "\n",
    "#function to take attendance\n",
    "def takeattendance(name_list):\n",
    "    attendance_list = []\n",
    "\n",
    "    #loop through the name_list  \n",
    "    for name in name_list:\n",
    "        # check if attended\n",
    "        promptstring = name[0] + \" \" + name[1] + \" present? y/n:\"\n",
    "        attendance = input(promptstring)\n",
    "        # add the first name second name and attendance to attendance_list\n",
    "        attendance_list.append([name[0]] + [name[1]] + [attendance])\n",
    "\n",
    "    #return attendance_list\n",
    "    return attendance_list\n",
    "\n",
    "#function to wirte data to csv file\n",
    "def writefile(attendacelist):\n",
    "    #open the csv file in append mode\n",
    "    with open('attendance.csv', mode='a') as csv_file:\n",
    "        attendance_writer = csv.writer(csv_file, delimiter=',', quotechar='\"', quoting=csv.QUOTE_MINIMAL)\n",
    "        # loop through the attendance list and write the data to a row in csv file\n",
    "        for student in attendancelist:\n",
    "            attendance_writer.writerow([student[0], student[1], student[2]])\n",
    "            \n",
    "    #print success message        \n",
    "    print(\"Attendance logged successfully\") \n",
    "\n",
    "\n",
    "\n",
    "#call open list - returns a 2d list of names [[firstname,surname],...]\n",
    "namelist = openfile()\n",
    "\n",
    "#call take attendancefunction passing the name list generated above\n",
    "attendancelist = takeattendance(namelist)\n",
    "\n",
    "#write the results to file  by caling the  write file function\n",
    "writefile(attendancelist)"
   ]
  }
 ],
 "metadata": {
  "kernelspec": {
   "display_name": "Python 3",
   "language": "python",
   "name": "python3"
  },
  "language_info": {
   "codemirror_mode": {
    "name": "ipython",
    "version": 3
   },
   "file_extension": ".py",
   "mimetype": "text/x-python",
   "name": "python",
   "nbconvert_exporter": "python",
   "pygments_lexer": "ipython3",
   "version": "3.12.6"
  }
 },
 "nbformat": 4,
 "nbformat_minor": 5
}
