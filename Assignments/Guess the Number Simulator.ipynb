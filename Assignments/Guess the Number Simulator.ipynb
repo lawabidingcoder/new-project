{
 "cells": [
  {
   "cell_type": "code",
   "execution_count": null,
   "id": "a229a174",
   "metadata": {},
   "outputs": [
    {
     "name": "stdout",
     "output_type": "stream",
     "text": [
      "I'm thinking of a number between 1 and 100.\n",
      "Please enter a valid number.\n",
      "Please enter a valid number.\n",
      "Too low!\n",
      "Too low!\n",
      "Correct! You guessed it!\n"
     ]
    }
   ],
   "source": [
    "# Assignment # 2\n",
    "# Guess the number Simulator\n",
    "\n",
    "import random # loads the built-in random module \n",
    "\n",
    "secret_number = random.randint(1, 100)\n",
    "print(\"I'm thinking of a number between 1 and 100.\")\n",
    "\n",
    "while True:\n",
    "    guess = input(\"Enter your guess: \") # Get input from user\n",
    "\n",
    "# Check is the input is a valid integer\n",
    "    if not guess.isdigit(): # Returns True if all char are digits, False if not\n",
    "        print(\"Please enter a valid number.\") # Reminder if False, ask\n",
    "        continue      # statement ignores invalid statements\n",
    "\n",
    "    guess = int(guess)\n",
    "\n",
    "    if guess < secret_number:\n",
    "        print(\"Too low!\")\n",
    "    elif guess > secret_number:\n",
    "        print(\"Too high!\")\n",
    "    else:\n",
    "        print(\"Correct! You guessed it!\")\n",
    "        break # Indicate if guessed correctly and exit loop\n"
   ]
  }
 ],
 "metadata": {
  "kernelspec": {
   "display_name": "Python 3",
   "language": "python",
   "name": "python3"
  },
  "language_info": {
   "codemirror_mode": {
    "name": "ipython",
    "version": 3
   },
   "file_extension": ".py",
   "mimetype": "text/x-python",
   "name": "python",
   "nbconvert_exporter": "python",
   "pygments_lexer": "ipython3",
   "version": "3.13.3"
  }
 },
 "nbformat": 4,
 "nbformat_minor": 5
}
