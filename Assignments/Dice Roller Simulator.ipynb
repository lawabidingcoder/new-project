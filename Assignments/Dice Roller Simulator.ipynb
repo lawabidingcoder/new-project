{
 "cells": [
  {
   "cell_type": "code",
   "execution_count": 17,
   "id": "7d1452e3",
   "metadata": {},
   "outputs": [
    {
     "name": "stdout",
     "output_type": "stream",
     "text": [
      "You rolled: 3\n",
      "You rolled: 7\n",
      "You rolled: 7\n",
      "You rolled: 1\n",
      "You rolled: 6\n",
      "You rolled: 8\n",
      "Goodbye!\n"
     ]
    }
   ],
   "source": [
    "import random\n",
    "# Assignment 1\n",
    "# Dice Roller Simulator\n",
    "def roll_the_dice():\n",
    "    random_number = random.randint(1, 8)\n",
    "    print(\"You rolled:\", random_number)\n",
    "\n",
    "# Program Loop\n",
    "while True:\n",
    "    roll_the_dice()\n",
    "    again = input(\"Do you want to roll again? (yes/no): \")\n",
    "    if again != \"yes\":\n",
    "        print(\"Goodbye!\") # Breaks the program if no \n",
    "        break             # or other characters typed  "
   ]
  }
 ],
 "metadata": {
  "kernelspec": {
   "display_name": "Python 3",
   "language": "python",
   "name": "python3"
  },
  "language_info": {
   "codemirror_mode": {
    "name": "ipython",
    "version": 3
   },
   "file_extension": ".py",
   "mimetype": "text/x-python",
   "name": "python",
   "nbconvert_exporter": "python",
   "pygments_lexer": "ipython3",
   "version": "3.13.3"
  }
 },
 "nbformat": 4,
 "nbformat_minor": 5
}
