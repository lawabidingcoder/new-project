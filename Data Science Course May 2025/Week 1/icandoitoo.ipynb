{
 "cells": [
  {
   "cell_type": "code",
   "execution_count": 11,
   "id": "1c64a951",
   "metadata": {},
   "outputs": [
    {
     "name": "stdout",
     "output_type": "stream",
     "text": [
      "hello world\n"
     ]
    }
   ],
   "source": [
    "print(\"hello world\")"
   ]
  },
  {
   "cell_type": "code",
   "execution_count": 15,
   "id": "77c5ab3f",
   "metadata": {},
   "outputs": [
    {
     "name": "stdout",
     "output_type": "stream",
     "text": [
      "it's a goodday\n"
     ]
    }
   ],
   "source": [
    "print(\"it's a goodday\")"
   ]
  },
  {
   "cell_type": "code",
   "execution_count": 16,
   "id": "7a9a8fcd",
   "metadata": {},
   "outputs": [],
   "source": [
    "## string ---- abayomi, \"20\"    \n",
    "## integrer ---- whole numbers \n",
    "## float ---- 3.1425\n",
    "## boolean ---- true, flase                                                   "
   ]
  },
  {
   "cell_type": "code",
   "execution_count": 22,
   "id": "35746fd1",
   "metadata": {},
   "outputs": [
    {
     "name": "stdout",
     "output_type": "stream",
     "text": [
      "none of the above\n"
     ]
    }
   ],
   "source": [
    "a = 10\n",
    "b = 100\n",
    "c = 10000\n",
    "d = \"none of the above\"\n",
    "print(d)"
   ]
  },
  {
   "cell_type": "code",
   "execution_count": 26,
   "id": "1b869c2a",
   "metadata": {},
   "outputs": [
    {
     "name": "stdout",
     "output_type": "stream",
     "text": [
      "50\n"
     ]
    }
   ],
   "source": [
    "## variable should be meaningful \n",
    "value1 = 20\n",
    "value2 = 30 \n",
    "total = value1 + value2 \n",
    "print(total)"
   ]
  },
  {
   "cell_type": "code",
   "execution_count": null,
   "id": "69bae1b7",
   "metadata": {},
   "outputs": [
    {
     "name": "stdout",
     "output_type": "stream",
     "text": [
      "1015\n"
     ]
    }
   ],
   "source": [
    "## input function \n",
    "number1 = input(\"Give me a number\") ## this is a string, change to float or integer\n",
    "number2 = input(\"Give me another number\")\n",
    "total = number1 + number2\n",
    "print(total) "
   ]
  },
  {
   "cell_type": "code",
   "execution_count": 1,
   "id": "dc8a55db",
   "metadata": {},
   "outputs": [
    {
     "name": "stdout",
     "output_type": "stream",
     "text": [
      "30\n"
     ]
    }
   ],
   "source": [
    "## casting\n",
    "number1 = input(\"Give me a number\")\n",
    "number2 = input(\"Give me another number\")\n",
    "total = int(number1) + int(number2)\n",
    "print(total)"
   ]
  },
  {
   "cell_type": "code",
   "execution_count": 10,
   "id": "a637878f",
   "metadata": {},
   "outputs": [
    {
     "name": "stdout",
     "output_type": "stream",
     "text": [
      "60\n",
      "20.0\n"
     ]
    }
   ],
   "source": [
    "num1 = input(\"Please enter first number\")\n",
    "num2 = input(\"Please enter second number\")\n",
    "num3 = input(\"Please enter third number\")\n",
    "total = int(num1) + int(num2) + int(num3)\n",
    "print(total)\n",
    "print(total / 3)\n",
    "        "
   ]
  },
  {
   "cell_type": "code",
   "execution_count": 18,
   "id": "7cc6ab5c",
   "metadata": {},
   "outputs": [
    {
     "name": "stdout",
     "output_type": "stream",
     "text": [
      "0\n",
      "1\n",
      "2\n",
      "3\n",
      "4\n",
      "5\n",
      "6\n",
      "7\n",
      "8\n",
      "9\n"
     ]
    }
   ],
   "source": [
    "## 0, 1, 2, 3, 4, 5, 6, 7, 8, 9\n",
    "\n",
    "## for loop\n",
    "for z in range (10):\n",
    "    print(z)"
   ]
  },
  {
   "cell_type": "code",
   "execution_count": 22,
   "id": "1a5559c4",
   "metadata": {},
   "outputs": [
    {
     "name": "stdout",
     "output_type": "stream",
     "text": [
      "John\n",
      "John\n",
      "John\n",
      "John\n",
      "John\n",
      "John\n",
      "John\n",
      "John\n",
      "John\n",
      "John\n",
      "John\n",
      "John\n",
      "John\n",
      "John\n",
      "John\n",
      "John\n",
      "John\n",
      "John\n",
      "John\n",
      "John\n"
     ]
    }
   ],
   "source": [
    "## creating and printing 20 times\n",
    "my_name = \"John\"\n",
    "\n",
    "## print the name 20 times\n",
    "for name in range(20):\n",
    "    print(my_name)"
   ]
  },
  {
   "cell_type": "code",
   "execution_count": 26,
   "id": "27ee5912",
   "metadata": {},
   "outputs": [
    {
     "name": "stdout",
     "output_type": "stream",
     "text": [
      "1\n",
      "3\n",
      "5\n",
      "7\n",
      "9\n"
     ]
    }
   ],
   "source": [
    "for i in range(1, 11, 2):\n",
    "    print(i)\n"
   ]
  },
  {
   "cell_type": "code",
   "execution_count": 32,
   "id": "902bcff1",
   "metadata": {},
   "outputs": [
    {
     "name": "stdout",
     "output_type": "stream",
     "text": [
      "1.Jesus is King\n",
      "2.Jesus is King\n",
      "3.Jesus is King\n",
      "4.Jesus is King\n",
      "5.Jesus is King\n",
      "6.Jesus is King\n",
      "7.Jesus is King\n",
      "8.Jesus is King\n",
      "9.Jesus is King\n",
      "10.Jesus is King\n"
     ]
    }
   ],
   "source": [
    "## ask user for inputs\n",
    "name = input(\"Please enter your name\")\n",
    "repetitions = int(input(\"How many times would you like it to be repeated?\"\n",
    "))\n",
    "## loop through to repeat the message entered by user\n",
    "for i in range(1, repetitions+1):\n",
    "    print(str(i) + \".\" + name)                 ##casting\n",
    "    "
   ]
  },
  {
   "cell_type": "code",
   "execution_count": 37,
   "id": "c5b5099a",
   "metadata": {},
   "outputs": [
    {
     "name": "stdout",
     "output_type": "stream",
     "text": [
      "\n",
      "Times table for 1\n",
      "1 x 1 = 1\n",
      "1 x 2 = 2\n",
      "1 x 3 = 3\n",
      "1 x 4 = 4\n",
      "1 x 5 = 5\n",
      "1 x 6 = 6\n",
      "1 x 7 = 7\n",
      "1 x 8 = 8\n",
      "1 x 9 = 9\n",
      "1 x 10 = 10\n",
      "1 x 11 = 11\n",
      "1 x 12 = 12\n",
      "1 x 13 = 13\n",
      "1 x 14 = 14\n",
      "\n",
      "Times table for 2\n",
      "2 x 1 = 2\n",
      "2 x 2 = 4\n",
      "2 x 3 = 6\n",
      "2 x 4 = 8\n",
      "2 x 5 = 10\n",
      "2 x 6 = 12\n",
      "2 x 7 = 14\n",
      "2 x 8 = 16\n",
      "2 x 9 = 18\n",
      "2 x 10 = 20\n",
      "2 x 11 = 22\n",
      "2 x 12 = 24\n",
      "2 x 13 = 26\n",
      "2 x 14 = 28\n",
      "\n",
      "Times table for 3\n",
      "3 x 1 = 3\n",
      "3 x 2 = 6\n",
      "3 x 3 = 9\n",
      "3 x 4 = 12\n",
      "3 x 5 = 15\n",
      "3 x 6 = 18\n",
      "3 x 7 = 21\n",
      "3 x 8 = 24\n",
      "3 x 9 = 27\n",
      "3 x 10 = 30\n",
      "3 x 11 = 33\n",
      "3 x 12 = 36\n",
      "3 x 13 = 39\n",
      "3 x 14 = 42\n",
      "\n",
      "Times table for 4\n",
      "4 x 1 = 4\n",
      "4 x 2 = 8\n",
      "4 x 3 = 12\n",
      "4 x 4 = 16\n",
      "4 x 5 = 20\n",
      "4 x 6 = 24\n",
      "4 x 7 = 28\n",
      "4 x 8 = 32\n",
      "4 x 9 = 36\n",
      "4 x 10 = 40\n",
      "4 x 11 = 44\n",
      "4 x 12 = 48\n",
      "4 x 13 = 52\n",
      "4 x 14 = 56\n",
      "\n",
      "Times table for 5\n",
      "5 x 1 = 5\n",
      "5 x 2 = 10\n",
      "5 x 3 = 15\n",
      "5 x 4 = 20\n",
      "5 x 5 = 25\n",
      "5 x 6 = 30\n",
      "5 x 7 = 35\n",
      "5 x 8 = 40\n",
      "5 x 9 = 45\n",
      "5 x 10 = 50\n",
      "5 x 11 = 55\n",
      "5 x 12 = 60\n",
      "5 x 13 = 65\n",
      "5 x 14 = 70\n"
     ]
    }
   ],
   "source": [
    "## Times Table\n",
    "## Ask the user for highest time table they want to generate\n",
    "max_table = int(input(\"Whats the highest times table you want to generate?\"))\n",
    "\n",
    "## loop through \n",
    "for table in range(1, max_table + 1):\n",
    "    print(\"\\nTimes table for\",  table)\n",
    "\n",
    "    for i in range (1, 15):\n",
    "        print(table, \"x\", i, \"=\", table * i)\n",
    "\n",
    "\n"
   ]
  },
  {
   "cell_type": "code",
   "execution_count": 38,
   "id": "308b89cc",
   "metadata": {},
   "outputs": [
    {
     "name": "stdout",
     "output_type": "stream",
     "text": [
      "1\n",
      "2\n",
      "3\n",
      "4\n",
      "5\n",
      "6\n",
      "7\n",
      "8\n",
      "9\n"
     ]
    }
   ],
   "source": [
    "## while loop\n",
    "count = 1\n",
    "while count < 10:\n",
    "    print(count)\n",
    "    count +=1"
   ]
  },
  {
   "cell_type": "code",
   "execution_count": 40,
   "id": "bbf62f20",
   "metadata": {},
   "outputs": [
    {
     "name": "stdout",
     "output_type": "stream",
     "text": [
      "Access Granted!\n"
     ]
    }
   ],
   "source": [
    "## while loop\n",
    "entry = \"\"\n",
    "password = 'letmein'\n",
    "\n",
    "while entry != password:\n",
    "    entry = input(\"Please enter your password\")\n",
    "print(\"Access Granted!\")"
   ]
  },
  {
   "cell_type": "code",
   "execution_count": null,
   "id": "0d12e71d",
   "metadata": {},
   "outputs": [],
   "source": [
    "guess = input(\"Enter guests\")\n",
    "while guess != 'Yeshua':\n",
    "    guess = input(\"Guess my name\")\n",
    "    print(\"Correct\")"
   ]
  },
  {
   "cell_type": "code",
   "execution_count": 41,
   "id": "6925cc3e",
   "metadata": {},
   "outputs": [
    {
     "name": "stdout",
     "output_type": "stream",
     "text": [
      "Wrong\n",
      "Wrong\n",
      "Wrong\n",
      "Correct\n"
     ]
    }
   ],
   "source": [
    "## altenrative\n",
    "while True:\n",
    "    guess = input(\"Guess my name\")\n",
    "    if guess == \"Rumpletitlskin\":  ## single is assigning, double is checking\n",
    "        print(\"Correct\")\n",
    "        break\n",
    "    print(\"Wrong\")"
   ]
  },
  {
   "cell_type": "code",
   "execution_count": 42,
   "id": "2a400f61",
   "metadata": {},
   "outputs": [
    {
     "name": "stdout",
     "output_type": "stream",
     "text": [
      "wrong\n",
      "wrong\n",
      "wrong\n",
      "Correct\n"
     ]
    }
   ],
   "source": [
    "## alternative\n",
    "while True:\n",
    "    guess = input(\"Guess my name\")\n",
    "    if guess != \"Pinoccio\":\n",
    "        print(\"wrong\")\n",
    "        continue\n",
    "    print(\"Correct\")\n",
    "    break\n"
   ]
  },
  {
   "cell_type": "code",
   "execution_count": 47,
   "id": "ac326be4",
   "metadata": {},
   "outputs": [
    {
     "name": "stdout",
     "output_type": "stream",
     "text": [
      "The total number is: 15\n",
      "The total number is: 115\n",
      "The total number is: 133\n",
      "The total number is: 210\n",
      "The total number is: 219\n"
     ]
    }
   ],
   "source": [
    "## initialise the total\n",
    "total = 0\n",
    "\n",
    "## ask the user to enter a number\n",
    "while True:\n",
    "    number = int(input(\"Enter a number: \"))\n",
    "\n",
    "    ##check if the user enters 0\n",
    "    if number == 0:\n",
    "        break\n",
    "    total += number \n",
    "    ## print the total number \n",
    "    print(\"The total number is:\", total)"
   ]
  },
  {
   "cell_type": "code",
   "execution_count": 4,
   "id": "e222544b",
   "metadata": {},
   "outputs": [],
   "source": [
    "## Asignment Operators, Relational Operators, Logical Operators\n",
    "## creating a program that prints out number greater than each other \n",
    "## Get first number from user\n",
    "first_number = int(input(\"Enter first number:\"))\n",
    "## Get second number\n",
    "second_number = int(input(\"Enter second number:\"))\n",
    "\n",
    "## When the first number is greater than the second number \n",
    "if first_number > second_number:\n",
    "    print(\"The first number is greater than the second number\")\n",
    "\n",
    "    ## When second number is greater than first number\n",
    "    if second_number > first_number:\n",
    "        print(\"The second number is greater than the first number\")\n",
    "\n",
    "        if first_number == second_number:\n",
    "            print(\"The numbers are equal\")"
   ]
  },
  {
   "cell_type": "code",
   "execution_count": 34,
   "id": "03e831b6",
   "metadata": {},
   "outputs": [
    {
     "name": "stdout",
     "output_type": "stream",
     "text": [
      "Welcome to the party!!\n"
     ]
    }
   ],
   "source": [
    "## age scenario of losing party \n",
    "## ask teh user of their age \n",
    "age = int(input(\"How old are you?\"))\n",
    "\n",
    "if age >= 18:\n",
    "    print(\"Welcome to the party!!\")\n",
    "\n",
    "elif age > 13:\n",
    "    print(\"You should ride with with an adult\")\n",
    "\n",
    "else:\n",
    "    print(\"Hey boy, go play with your toys\")"
   ]
  },
  {
   "cell_type": "code",
   "execution_count": 41,
   "id": "37382c46",
   "metadata": {},
   "outputs": [
    {
     "name": "stdout",
     "output_type": "stream",
     "text": [
      "You were born in a leap year!\n"
     ]
    }
   ],
   "source": [
    "## Leap year \n",
    "\n",
    "year = int(input(\"Enter the year you were born: \"))\n",
    "\n",
    "## Check if the year is a leap year \n",
    "if year % 4 == 0:\n",
    "    print(\"You were born in a leap year!\")\n",
    "else:\n",
    "    print(\"You were not born in a leap year :(\")"
   ]
  },
  {
   "cell_type": "code",
   "execution_count": 42,
   "id": "2189e0e0",
   "metadata": {},
   "outputs": [
    {
     "name": "stdout",
     "output_type": "stream",
     "text": [
      "The price for swimming is £5\n"
     ]
    }
   ],
   "source": [
    "## Till system \n",
    "age = int(input(\"Enter your age: \"))\n",
    "\n",
    "if age < 20 or age > 65:\n",
    "    price = 0\n",
    "else:\n",
    "    swim_card = input(\"Do you have a membership card? (yes/no): \")\n",
    "    if swim_card.lower() == \"yes: \":\n",
    "        price = 2.5\n",
    "    else:\n",
    "        price = 5\n",
    "\n",
    "## RESPONSE \n",
    "print(\"The price for swimming is £\" +str(price))"
   ]
  },
  {
   "cell_type": "code",
   "execution_count": null,
   "id": "c0cff549",
   "metadata": {},
   "outputs": [],
   "source": []
  }
 ],
 "metadata": {
  "kernelspec": {
   "display_name": "Python 3",
   "language": "python",
   "name": "python3"
  },
  "language_info": {
   "codemirror_mode": {
    "name": "ipython",
    "version": 3
   },
   "file_extension": ".py",
   "mimetype": "text/x-python",
   "name": "python",
   "nbconvert_exporter": "python",
   "pygments_lexer": "ipython3",
   "version": "3.13.3"
  }
 },
 "nbformat": 4,
 "nbformat_minor": 5
}
