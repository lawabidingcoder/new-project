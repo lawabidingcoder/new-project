{
 "cells": [
  {
   "cell_type": "code",
   "execution_count": null,
   "id": "21a34777",
   "metadata": {},
   "outputs": [],
   "source": [
    "## Week 1 - Day 3 (14/05/25)"
   ]
  },
  {
   "cell_type": "code",
   "execution_count": 2,
   "id": "809522e5",
   "metadata": {},
   "outputs": [
    {
     "name": "stdout",
     "output_type": "stream",
     "text": [
      "['i', 'd', 'l', 'e']\n"
     ]
    }
   ],
   "source": [
    "## create a list \n",
    "\n",
    "my_list = ['i', 'd', 'l', 'e']\n",
    "print(my_list)"
   ]
  },
  {
   "cell_type": "code",
   "execution_count": 3,
   "id": "95e5a025",
   "metadata": {},
   "outputs": [
    {
     "name": "stdout",
     "output_type": "stream",
     "text": [
      "['i', 'd']\n"
     ]
    }
   ],
   "source": [
    "del my_list[2:4] \n",
    "print(my_list)"
   ]
  },
  {
   "cell_type": "code",
   "execution_count": 4,
   "id": "401f4f87",
   "metadata": {},
   "outputs": [
    {
     "name": "stdout",
     "output_type": "stream",
     "text": [
      "['s', 'i', 'd']\n"
     ]
    }
   ],
   "source": [
    "new_list = ['s'] + my_list\n",
    "print(new_list)"
   ]
  },
  {
   "cell_type": "code",
   "execution_count": 5,
   "id": "45216bc0",
   "metadata": {},
   "outputs": [
    {
     "name": "stdout",
     "output_type": "stream",
     "text": [
      "['s', 'i', 'd', 'g']\n"
     ]
    }
   ],
   "source": [
    "## append\n",
    "new_list.append('g')\n",
    "print(new_list)"
   ]
  },
  {
   "cell_type": "code",
   "execution_count": 6,
   "id": "c4ca62e3",
   "metadata": {},
   "outputs": [
    {
     "name": "stdout",
     "output_type": "stream",
     "text": [
      "['s', 't', 'i', 'd', 'g']\n"
     ]
    }
   ],
   "source": [
    "## insert\n",
    "new_list.insert(1, 't')\n",
    "print(new_list)"
   ]
  },
  {
   "cell_type": "code",
   "execution_count": 7,
   "id": "034f506f",
   "metadata": {},
   "outputs": [
    {
     "name": "stdout",
     "output_type": "stream",
     "text": [
      "s\n"
     ]
    }
   ],
   "source": [
    "import random\n",
    "letter = random.choice(new_list)\n",
    "print(letter)"
   ]
  },
  {
   "cell_type": "code",
   "execution_count": 8,
   "id": "c7f0ab31",
   "metadata": {},
   "outputs": [],
   "source": [
    "final_list = []\n",
    "for i in new_list:\n",
    "    final_list.append(new_list.index(i))"
   ]
  },
  {
   "cell_type": "code",
   "execution_count": 9,
   "id": "67816f8a",
   "metadata": {},
   "outputs": [
    {
     "name": "stdout",
     "output_type": "stream",
     "text": [
      "[0, 1, 2, 3, 4]\n"
     ]
    }
   ],
   "source": [
    "print(final_list)"
   ]
  },
  {
   "cell_type": "code",
   "execution_count": 10,
   "id": "7e124d48",
   "metadata": {},
   "outputs": [
    {
     "data": {
      "text/plain": [
       "10"
      ]
     },
     "execution_count": 10,
     "metadata": {},
     "output_type": "execute_result"
    }
   ],
   "source": [
    "sum(final_list)"
   ]
  },
  {
   "cell_type": "code",
   "execution_count": 11,
   "id": "9de3520e",
   "metadata": {},
   "outputs": [
    {
     "data": {
      "text/plain": [
       "5"
      ]
     },
     "execution_count": 11,
     "metadata": {},
     "output_type": "execute_result"
    }
   ],
   "source": [
    "## length of the list \n",
    "len(final_list)"
   ]
  },
  {
   "cell_type": "code",
   "execution_count": 12,
   "id": "774a84ba",
   "metadata": {},
   "outputs": [
    {
     "name": "stdout",
     "output_type": "stream",
     "text": [
      "one\n"
     ]
    }
   ],
   "source": [
    "my_new_list = ['one', 'two', 'three']\n",
    "print(my_new_list[0])\n"
   ]
  },
  {
   "cell_type": "code",
   "execution_count": 13,
   "id": "8727114f",
   "metadata": {},
   "outputs": [
    {
     "name": "stdout",
     "output_type": "stream",
     "text": [
      "one,two,three,"
     ]
    }
   ],
   "source": [
    "## a loop to iterate list \n",
    "for i in my_new_list:\n",
    "    print(i, end= ',')"
   ]
  },
  {
   "cell_type": "code",
   "execution_count": 14,
   "id": "3caaf4e4",
   "metadata": {},
   "outputs": [
    {
     "name": "stdout",
     "output_type": "stream",
     "text": [
      "three\n",
      "two\n",
      "one\n"
     ]
    }
   ],
   "source": [
    "## reverse a list \n",
    "for x in reversed(my_new_list):\n",
    "    print(x, end= '\\n' \\\n",
    "    '' )"
   ]
  },
  {
   "cell_type": "code",
   "execution_count": null,
   "id": "4f64dc4d",
   "metadata": {},
   "outputs": [
    {
     "name": "stdout",
     "output_type": "stream",
     "text": [
      "The sum of the numbers is: 468\n",
      "The average of the numbers is: 46.8\n"
     ]
    }
   ],
   "source": [
    "## task\n",
    "## initialise and empty list \n",
    "user_number = []\n",
    "## get the user to enter 10 integers \n",
    "for i in range (1,11):\n",
    "    while True:\n",
    "        user_input = input(f'Please enter an integer number #{i}:')\n",
    "        try:\n",
    "            num = int(user_input)\n",
    "            user_number.append(num)\n",
    "            break\n",
    "        except ValueError:\n",
    "            print('That is not a valid integer. Please enter an integer number')\n",
    "\n",
    "\n",
    "## cakculate the sum and average numbers\n",
    "total_sum = sum(user_number)\n",
    "average = total_sum/len(user_number)\n",
    "\n",
    "\n",
    "## output teh results\n",
    "print(f'The sum of the numbers is: {total_sum}')\n",
    "print(f'The average of the numbers is: {average}')    \n",
    "\n",
    "## display the number based on the proprotion \n",
    "for num in user_number:\n",
    "    if num < average:\n",
    "        proportion = 'below'\n",
    "    elif num > average: \n",
    "        proportion = 'above'\n",
    "    else:\n",
    "        proportion = 'equal to'       \n",
    "\n",
    "        print(f'{num} is {proportion} average.')\n",
    "\n",
    "            \n"
   ]
  },
  {
   "cell_type": "code",
   "execution_count": 22,
   "id": "26ca12e1",
   "metadata": {},
   "outputs": [],
   "source": [
    "my_string = \"Hello World\""
   ]
  },
  {
   "cell_type": "code",
   "execution_count": 23,
   "id": "ac9aa3db",
   "metadata": {},
   "outputs": [
    {
     "data": {
      "text/plain": [
       "'W'"
      ]
     },
     "execution_count": 23,
     "metadata": {},
     "output_type": "execute_result"
    }
   ],
   "source": [
    "my_string[6]"
   ]
  },
  {
   "cell_type": "code",
   "execution_count": null,
   "id": "d654ffae",
   "metadata": {},
   "outputs": [
    {
     "data": {
      "text/plain": [
       "'Hello'"
      ]
     },
     "execution_count": 24,
     "metadata": {},
     "output_type": "execute_result"
    }
   ],
   "source": [
    "## output 'hello'\n",
    "my_string[0:5]"
   ]
  },
  {
   "cell_type": "code",
   "execution_count": null,
   "id": "3e21cd50",
   "metadata": {},
   "outputs": [
    {
     "name": "stdout",
     "output_type": "stream",
     "text": [
      "Cello\n"
     ]
    }
   ],
   "source": [
    "## Cello\n",
    "my_string2 = my_string.replace('H', 'C')[:5]\n",
    "print(my_string2)"
   ]
  },
  {
   "cell_type": "code",
   "execution_count": 39,
   "id": "34c24a62",
   "metadata": {},
   "outputs": [
    {
     "data": {
      "text/plain": [
       "'Cello'"
      ]
     },
     "execution_count": 39,
     "metadata": {},
     "output_type": "execute_result"
    }
   ],
   "source": [
    "## Cello alternative\n",
    "'C' + my_string[1:5]"
   ]
  },
  {
   "cell_type": "code",
   "execution_count": 41,
   "id": "63d955cb",
   "metadata": {},
   "outputs": [],
   "source": [
    "## Built-in function\n",
    "## Create a list \n",
    "a = [2,4,5,6,8,9]"
   ]
  },
  {
   "cell_type": "code",
   "execution_count": null,
   "id": "355e4c07",
   "metadata": {},
   "outputs": [
    {
     "data": {
      "text/plain": [
       "9"
      ]
     },
     "execution_count": 47,
     "metadata": {},
     "output_type": "execute_result"
    }
   ],
   "source": [
    "type(a)\n",
    "max(a)\n"
   ]
  },
  {
   "cell_type": "code",
   "execution_count": 50,
   "id": "7f2f14c9",
   "metadata": {},
   "outputs": [
    {
     "data": {
      "text/plain": [
       "3.147"
      ]
     },
     "execution_count": 50,
     "metadata": {},
     "output_type": "execute_result"
    }
   ],
   "source": [
    "number = 3.1472\n",
    "round(number, 3)"
   ]
  },
  {
   "cell_type": "code",
   "execution_count": 51,
   "id": "81815f17",
   "metadata": {},
   "outputs": [
    {
     "data": {
      "text/plain": [
       "4.1472"
      ]
     },
     "execution_count": 51,
     "metadata": {},
     "output_type": "execute_result"
    }
   ],
   "source": [
    "eval('number + 1')"
   ]
  },
  {
   "cell_type": "code",
   "execution_count": 59,
   "id": "4b57903d",
   "metadata": {},
   "outputs": [
    {
     "data": {
      "text/plain": [
       "9"
      ]
     },
     "execution_count": 59,
     "metadata": {},
     "output_type": "execute_result"
    }
   ],
   "source": [
    "import random\n",
    "random.randint(1,10)"
   ]
  },
  {
   "cell_type": "code",
   "execution_count": 65,
   "id": "cb410443",
   "metadata": {},
   "outputs": [],
   "source": [
    "def square(no):\n",
    "    squared_number = no **2\n",
    "    return squared_number"
   ]
  },
  {
   "cell_type": "code",
   "execution_count": 67,
   "id": "5ab86ddc",
   "metadata": {},
   "outputs": [
    {
     "data": {
      "text/plain": [
       "81"
      ]
     },
     "execution_count": 67,
     "metadata": {},
     "output_type": "execute_result"
    }
   ],
   "source": [
    "square(9)"
   ]
  },
  {
   "cell_type": "code",
   "execution_count": 4,
   "id": "a4c0627b",
   "metadata": {},
   "outputs": [],
   "source": [
    "## fucntion that converts pounds to kg\n",
    "def convert_to_kg(pounds):\n",
    "    kilograms = pounds / 2.2\n",
    "    return kilograms"
   ]
  },
  {
   "cell_type": "code",
   "execution_count": null,
   "id": "a19ece8a",
   "metadata": {},
   "outputs": [],
   "source": [
    "convert_to_kg(25)\n"
   ]
  }
 ],
 "metadata": {
  "kernelspec": {
   "display_name": "Python 3",
   "language": "python",
   "name": "python3"
  },
  "language_info": {
   "codemirror_mode": {
    "name": "ipython",
    "version": 3
   },
   "file_extension": ".py",
   "mimetype": "text/x-python",
   "name": "python",
   "nbconvert_exporter": "python",
   "pygments_lexer": "ipython3",
   "version": "3.13.3"
  }
 },
 "nbformat": 4,
 "nbformat_minor": 5
}
